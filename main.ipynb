{
 "cells": [
  {
   "cell_type": "markdown",
   "metadata": {},
   "source": [
    "# Confiabilidade de viga mista"
   ]
  },
  {
   "cell_type": "markdown",
   "metadata": {},
   "source": [
    "## Importando bibliotecas"
   ]
  },
  {
   "cell_type": "code",
   "execution_count": 77,
   "metadata": {},
   "outputs": [],
   "source": [
    "import matplotlib.pyplot as plt\n",
    "import numpy as np\n",
    "from scipy.stats import norm"
   ]
  },
  {
   "cell_type": "markdown",
   "metadata": {},
   "source": [
    "## Definindo funções"
   ]
  },
  {
   "cell_type": "code",
   "execution_count": null,
   "metadata": {},
   "outputs": [],
   "source": [
    "def calculo_destribuicao(media, desvpad) -> list:\n",
    "    amostra: int = 1000\n",
    "    medias: list = []\n",
    "\n",
    "    for i in range(amostra):\n",
    "        numero_aleatorio: float = np.random.rand()\n",
    "        medias.append(norm.ppf(numero_aleatorio, media, desvpad))\n",
    "        \n",
    "    return medias\n",
    "        \n",
    "def calculo_destribuicao_areas(media, desvpad) -> list:\n",
    "    amostra: int = 1000\n",
    "    medias: list = []\n",
    "    areas: list = []\n",
    "\n",
    "    for i in range(amostra):\n",
    "        numero_aleatorio: float = np.random.rand()\n",
    "        medias.append(norm.ppf(numero_aleatorio, media, desvpad))\n",
    "        areas.append(np.pi * (medias[i] / 2) ** 2)\n",
    "        \n",
    "    return medias, areas"
   ]
  },
  {
   "cell_type": "markdown",
   "metadata": {},
   "source": [
    "## Espessura da laje"
   ]
  },
  {
   "cell_type": "code",
   "execution_count": 78,
   "metadata": {},
   "outputs": [],
   "source": [
    "espessura_laje: float = 10\n",
    "desvpad_espessura_laje: float = 0.06 * espessura_laje\n",
    "amostra: int = 1000\n",
    "\n",
    "espessuras: list = calculo_destribuicao(espessura_laje, desvpad_espessura_laje)"
   ]
  },
  {
   "cell_type": "markdown",
   "metadata": {},
   "source": [
    "## Limite de escoamento do perfil de aço"
   ]
  },
  {
   "cell_type": "code",
   "execution_count": 79,
   "metadata": {},
   "outputs": [],
   "source": [
    "limite_escoamento_perfil: float = 250 * 1.08\n",
    "desvpad_escoamento_perfil: float = 0.08 * limite_escoamento_perfil\n",
    "\n",
    "limites_escoamento_perfil: list = calculo_destribuicao(limite_escoamento_perfil, desvpad_escoamento_perfil)"
   ]
  },
  {
   "cell_type": "markdown",
   "metadata": {},
   "source": [
    "## Limite de escoamento da armadura"
   ]
  },
  {
   "cell_type": "code",
   "execution_count": 80,
   "metadata": {},
   "outputs": [],
   "source": [
    "limite_escoamento_armadura: float = 500 * 1.08\n",
    "desvpad_escoamento_armadura: float = 0.08 * limite_escoamento_armadura\n",
    "\n",
    "limites_escoamento_perfil: list = calculo_destribuicao(limite_escoamento_armadura, desvpad_escoamento_armadura)"
   ]
  },
  {
   "cell_type": "markdown",
   "metadata": {},
   "source": [
    "## Resistência do concreto à compressão"
   ]
  },
  {
   "cell_type": "code",
   "execution_count": 81,
   "metadata": {},
   "outputs": [],
   "source": [
    "resistencia_concreto: float = 20 * 1.17\n",
    "desvpad_resistencia_concreto: float = 0.15 * resistencia_concreto\n",
    "\n",
    "resistencias_concreto: list = calculo_destribuicao(resistencia_concreto, desvpad_resistencia_concreto)"
   ]
  },
  {
   "cell_type": "markdown",
   "metadata": {},
   "source": [
    "## Diamêtro do rebite"
   ]
  },
  {
   "cell_type": "code",
   "execution_count": 83,
   "metadata": {},
   "outputs": [],
   "source": [
    "diametro_rebite: float = 1.59\n",
    "desvpad_diametro_rebite: float = 0.01 * diametro_rebite\n",
    "\n",
    "diametros_rebites, areas_rebites = calculo_destribuicao_areas(diametro_rebite, desvpad_diametro_rebite)\n"
   ]
  },
  {
   "cell_type": "markdown",
   "metadata": {},
   "source": [
    "## Resistência do rebite"
   ]
  },
  {
   "cell_type": "code",
   "execution_count": 84,
   "metadata": {},
   "outputs": [],
   "source": [
    "resistencia_rebite: float = 1.59\n",
    "desvpad_resistencia_rebite: float = 0.01 * resistencia_rebite\n",
    "\n",
    "resistencias_rebite: list = calculo_destribuicao(resistencia_rebite, desvpad_resistencia_rebite)"
   ]
  }
 ],
 "metadata": {
  "kernelspec": {
   "display_name": "Python 3",
   "language": "python",
   "name": "python3"
  },
  "language_info": {
   "codemirror_mode": {
    "name": "ipython",
    "version": 3
   },
   "file_extension": ".py",
   "mimetype": "text/x-python",
   "name": "python",
   "nbconvert_exporter": "python",
   "pygments_lexer": "ipython3",
   "version": "3.11.5"
  },
  "orig_nbformat": 4
 },
 "nbformat": 4,
 "nbformat_minor": 2
}
