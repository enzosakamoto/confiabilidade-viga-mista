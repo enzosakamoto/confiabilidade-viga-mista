{
 "cells": [
  {
   "cell_type": "markdown",
   "metadata": {},
   "source": [
    "# Confiabilidade de viga mista"
   ]
  },
  {
   "cell_type": "markdown",
   "metadata": {},
   "source": [
    "## Importando bibliotecas"
   ]
  },
  {
   "cell_type": "code",
   "execution_count": null,
   "metadata": {},
   "outputs": [],
   "source": [
    "import matplotlib.pyplot as plt\n",
    "import numpy as np\n",
    "from scipy.stats import norm\n",
    "import import_ipynb\n",
    "from math import sqrt\n",
    "import pandas as pd"
   ]
  },
  {
   "cell_type": "markdown",
   "metadata": {},
   "source": [
    "## Tabela de perfis"
   ]
  },
  {
   "cell_type": "code",
   "execution_count": null,
   "metadata": {},
   "outputs": [],
   "source": [
    "tabela = pd.read_excel('Catalogo-Tabela-Bitolas-Editado-2.xlsx')\n",
    "display(tabela)"
   ]
  },
  {
   "cell_type": "markdown",
   "metadata": {},
   "source": [
    "## Definindo funções"
   ]
  },
  {
   "cell_type": "code",
   "execution_count": null,
   "metadata": {},
   "outputs": [],
   "source": [
    "def calculo_destribuicao_media(media: float, desvpad: float, area: bool = False) -> list:\n",
    "    AMOSTRAS: int = 1000\n",
    "    medias: list = []\n",
    "    areas: list = []\n",
    "    \n",
    "    if (area):\n",
    "        for i in range(AMOSTRAS):\n",
    "            numero_aleatorio: float = np.random.rand()\n",
    "            medias.append(norm.ppf(numero_aleatorio, media, desvpad))\n",
    "            areas.append(np.pi * (medias[i] / 2) ** 2)\n",
    "        \n",
    "        return medias, areas\n",
    "\n",
    "    else:\n",
    "        for i in range(AMOSTRAS):\n",
    "            numero_aleatorio: float = np.random.rand()\n",
    "            medias.append(norm.ppf(numero_aleatorio, media, desvpad))\n",
    "            \n",
    "        return medias\n",
    "        "
   ]
  },
  {
   "cell_type": "markdown",
   "metadata": {},
   "source": [
    "## Médias - Espessura da laje"
   ]
  },
  {
   "cell_type": "code",
   "execution_count": null,
   "metadata": {},
   "outputs": [],
   "source": [
    "espessura_laje: float = 10 # cm \n",
    "desvpad_espessura_laje: float = 0.06 * espessura_laje # cm\n",
    "\n",
    "espessuras_laje: list = calculo_destribuicao_media(espessura_laje, desvpad_espessura_laje)"
   ]
  },
  {
   "cell_type": "markdown",
   "metadata": {},
   "source": [
    "## Médias - Limite de escoamento do perfil de aço"
   ]
  },
  {
   "cell_type": "code",
   "execution_count": null,
   "metadata": {},
   "outputs": [],
   "source": [
    "limite_escoamento_perfil: float = 250 * 1.08 # MPa\n",
    "desvpad_escoamento_perfil: float = 0.08 * limite_escoamento_perfil # MPa\n",
    "\n",
    "limites_escoamento_perfil: list = calculo_destribuicao_media(limite_escoamento_perfil, desvpad_escoamento_perfil)"
   ]
  },
  {
   "cell_type": "markdown",
   "metadata": {},
   "source": [
    "## Médias - Limite de escoamento da armadura"
   ]
  },
  {
   "cell_type": "code",
   "execution_count": null,
   "metadata": {},
   "outputs": [],
   "source": [
    "limite_escoamento_armadura: float = 500 * 1.08 # MPa\n",
    "desvpad_escoamento_armadura: float = 0.05 * limite_escoamento_armadura #MPa\n",
    "\n",
    "limites_escoamento_armadura: list = calculo_destribuicao_media(limite_escoamento_armadura, desvpad_escoamento_armadura)"
   ]
  },
  {
   "cell_type": "markdown",
   "metadata": {},
   "source": [
    "## Médias - Resistência do concreto à compressão"
   ]
  },
  {
   "cell_type": "code",
   "execution_count": null,
   "metadata": {},
   "outputs": [],
   "source": [
    "resistencia_concreto: float = 20 * 1.17 # MPa\n",
    "desvpad_resistencia_concreto: float = 0.15 * resistencia_concreto # MPa\n",
    "\n",
    "resistencias_concreto: list = calculo_destribuicao_media(resistencia_concreto, desvpad_resistencia_concreto)"
   ]
  },
  {
   "cell_type": "markdown",
   "metadata": {},
   "source": [
    "## Médias - Diamêtro do rebite"
   ]
  },
  {
   "cell_type": "code",
   "execution_count": null,
   "metadata": {},
   "outputs": [],
   "source": [
    "diametro_rebite: float = 1.59 # cm\n",
    "desvpad_diametro_rebite: float = 0.01 * diametro_rebite # cm\n",
    "\n",
    "diametros_rebites, areas_rebites = calculo_destribuicao_media(diametro_rebite, desvpad_diametro_rebite, True)\n"
   ]
  },
  {
   "cell_type": "markdown",
   "metadata": {},
   "source": [
    "## Médias - Resistência do rebite"
   ]
  },
  {
   "cell_type": "code",
   "execution_count": null,
   "metadata": {},
   "outputs": [],
   "source": [
    "resistencia_rebite: float = 415 * 1.06 # MPa\n",
    "desvpad_resistencia_rebite: float = 0.06 * resistencia_rebite # MPa\n",
    "\n",
    "resistencias_rebite: list = calculo_destribuicao_media(resistencia_rebite, desvpad_resistencia_rebite)"
   ]
  },
  {
   "cell_type": "markdown",
   "metadata": {},
   "source": [
    "## Pré-dimensionamento"
   ]
  },
  {
   "cell_type": "code",
   "execution_count": null,
   "metadata": {},
   "outputs": [],
   "source": [
    "carga_permanente_g1: float = 7.6 # kN/m\n",
    "carga_permanente_g2: float = 5 # kN/m\n",
    "\n",
    "variacao_carga: list = [3, 11]\n",
    "carga_utilizacao_q2: list = [i for i in range(variacao_carga[0], variacao_carga[1])]\n",
    "\n",
    "carga_construcao_q1: list = [i / 5.6 for i in carga_utilizacao_q2]\n",
    "\n",
    "# Propriedades da laje\n",
    "vao_laje: float = 9 # m\n",
    "espacamento_laje: float = 2.8 # m\n",
    "\n",
    "# Carga distrubuída do projeto\n",
    "carga_distribuida_projeto: list = [1.4 * (carga_permanente_g1 + carga_permanente_g2) + carga_construcao_q1[i] * carga_utilizacao_q2[i] for i in range(len(carga_utilizacao_q2))]\n",
    "\n",
    "# Momento solicitante do projeto\n",
    "momento_solicitante_projeto: list = [(carga_distribuida_projeto[i] * (vao_laje ** 2)) / 8 for i in range(len(carga_distribuida_projeto))]\n",
    "\n",
    "altura_perfil_ht: float = 45 # cm\n",
    "coeficiente_ya1: float = 1.1\n",
    "x: float = 10 # cm\n",
    "\n",
    "# Tabela com áreas filtradas a partir de 450 mm\n",
    "tabela_filtrada = tabela.loc[tabela['d'] >= 450]\n",
    "\n",
    "row_tabela: int = 0\n",
    "\n",
    "# Área mínima da seção de aço\n",
    "areas_minimas: list = [[] for i in range(len(momento_solicitante_projeto))]\n",
    "index_matriz: int = 0\n",
    "area_minima_inicial: float = tabela_filtrada.iloc[0]['area']\n",
    "for i in momento_solicitante_projeto:\n",
    "    for j in range(len(limites_escoamento_perfil)):\n",
    "        areas_minimas[index_matriz].append((i * 100) / (((limites_escoamento_perfil[j] / 10) / coeficiente_ya1) * ((altura_perfil_ht / 2) + espessuras_laje[j] - (x / 2)))) # cm²\n",
    "        if (areas_minimas[index_matriz][j] > area_minima_inicial):\n",
    "            print(f'Área mínima inicial: {area_minima_inicial}')\n",
    "            print(f'Área mínima calculada: {areas_minimas[index_matriz][j]}')\n",
    "            row_tabela += 1\n",
    "            area_minima_inicial = tabela_filtrada.iloc[row_tabela]['area']\n",
    "    index_matriz += 1\n",
    "    \n",
    "\n",
    "print(areas_minimas)\n",
    "print(f'Área mínima final {area_minima_inicial}')\n"
   ]
  },
  {
   "cell_type": "markdown",
   "metadata": {},
   "source": [
    "## Flambagem da seção"
   ]
  },
  {
   "cell_type": "code",
   "execution_count": null,
   "metadata": {},
   "outputs": [],
   "source": [
    "# Classificação da seção quanto a flambagem\n",
    "altura_perfil: float = tabela_filtrada.iloc[row_tabela]['d\\''] # mm\n",
    "espessura_perfil: float = tabela_filtrada.iloc[row_tabela]['tw'] # mm\n",
    "print(altura_perfil, espessura_perfil)\n",
    "modulo_elasticidade_perfil: float = 200000 # MPa\n",
    "\n",
    "esbeltez_alma: float = altura_perfil / espessura_perfil\n",
    "\n",
    "limites_flambagem_local: list = []\n",
    "\n",
    "def calculo_limite_flambagem_local(coef: float, modulo_elasticidade_perfil: float, limite_escoamento_perfil: float) -> float:\n",
    "    return coef * sqrt(modulo_elasticidade_perfil / limite_escoamento_perfil)\n",
    "\n",
    "countador_compacto: int = 0\n",
    "countador_semicompacto: int = 0\n",
    "\n",
    "for i in range(len(limites_escoamento_perfil)):\n",
    "    limite = calculo_limite_flambagem_local(3.76, modulo_elasticidade_perfil, limites_escoamento_perfil[i])\n",
    "    limites_flambagem_local.append(limite)\n",
    "    \n",
    "    if esbeltez_alma <= limite:\n",
    "        countador_compacto += 1\n",
    "    elif esbeltez_alma > limite and esbeltez_alma < calculo_limite_flambagem_local(5.7, modulo_elasticidade_perfil, limites_escoamento_perfil[i]):\n",
    "        countador_semicompacto += 1\n",
    "    else:\n",
    "        print('Erro')\n",
    "        \n",
    "print(f'Compactas: {countador_compacto}')\n",
    "print(f'Semi-compactas: {countador_semicompacto}')\n",
    "        "
   ]
  },
  {
   "cell_type": "markdown",
   "metadata": {},
   "source": [
    "## Momento resistência da viga mista"
   ]
  },
  {
   "cell_type": "code",
   "execution_count": null,
   "metadata": {},
   "outputs": [],
   "source": []
  }
 ],
 "metadata": {
  "kernelspec": {
   "display_name": "Python 3",
   "language": "python",
   "name": "python3"
  },
  "language_info": {
   "codemirror_mode": {
    "name": "ipython",
    "version": 3
   },
   "file_extension": ".py",
   "mimetype": "text/x-python",
   "name": "python",
   "nbconvert_exporter": "python",
   "pygments_lexer": "ipython3",
   "version": "3.11.5"
  },
  "orig_nbformat": 4
 },
 "nbformat": 4,
 "nbformat_minor": 2
}
